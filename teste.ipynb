{
  "nbformat": 4,
  "nbformat_minor": 0,
  "metadata": {
    "colab": {
      "name": "Untitled2.ipynb",
      "provenance": [],
      "toc_visible": true,
      "authorship_tag": "ABX9TyNlSFPIJzpe09HyOvrPnjrJ",
      "include_colab_link": true
    },
    "kernelspec": {
      "name": "python3",
      "display_name": "Python 3"
    },
    "language_info": {
      "name": "python"
    }
  },
  "cells": [
    {
      "cell_type": "markdown",
      "metadata": {
        "id": "view-in-github",
        "colab_type": "text"
      },
      "source": [
        "<a href=\"https://colab.research.google.com/github/acciolyrabello1/MyWorkatETEPD_DS2021.2/blob/main/teste.ipynb\" target=\"_parent\"><img src=\"https://colab.research.google.com/assets/colab-badge.svg\" alt=\"Open In Colab\"/></a>"
      ]
    },
    {
      "cell_type": "code",
      "execution_count": 74,
      "metadata": {
        "colab": {
          "base_uri": "https://localhost:8080/",
          "height": 246
        },
        "id": "hP9YWuK5AWHJ",
        "outputId": "6338f461-738a-4d96-cba2-4488aa42e01d"
      },
      "outputs": [
        {
          "output_type": "error",
          "ename": "NameError",
          "evalue": "ignored",
          "traceback": [
            "\u001b[0;31m---------------------------------------------------------------------------\u001b[0m",
            "\u001b[0;31mNameError\u001b[0m                                 Traceback (most recent call last)",
            "\u001b[0;32m<ipython-input-74-681bdbeb0be3>\u001b[0m in \u001b[0;36m<module>\u001b[0;34m()\u001b[0m\n\u001b[1;32m      6\u001b[0m \u001b[0;34m\u001b[0m\u001b[0m\n\u001b[1;32m      7\u001b[0m \u001b[0mJoao\u001b[0m \u001b[0;34m=\u001b[0m \u001b[0mPessoa\u001b[0m\u001b[0;34m(\u001b[0m\u001b[0;34m'Joao Paulo'\u001b[0m\u001b[0;34m,\u001b[0m \u001b[0;34m'26'\u001b[0m\u001b[0;34m,\u001b[0m \u001b[0;34m'Masculino'\u001b[0m\u001b[0;34m)\u001b[0m\u001b[0;34m\u001b[0m\u001b[0;34m\u001b[0m\u001b[0m\n\u001b[0;32m----> 8\u001b[0;31m \u001b[0mprint\u001b[0m\u001b[0;34m(\u001b[0m \u001b[0mjoao\u001b[0m\u001b[0;34m.\u001b[0m\u001b[0mnome\u001b[0m \u001b[0;34m+\u001b[0m \u001b[0;34m\"\\n\"\u001b[0m \u001b[0;34m+\u001b[0m \u001b[0mjoao\u001b[0m\u001b[0;34m.\u001b[0m\u001b[0midade\u001b[0m \u001b[0;34m+\u001b[0m \u001b[0;34m\"\\n\"\u001b[0m \u001b[0;34m+\u001b[0m \u001b[0mjoao\u001b[0m\u001b[0;34m.\u001b[0m\u001b[0mgenero\u001b[0m\u001b[0;34m)\u001b[0m\u001b[0;34m\u001b[0m\u001b[0;34m\u001b[0m\u001b[0m\n\u001b[0m\u001b[1;32m      9\u001b[0m \u001b[0;34m\u001b[0m\u001b[0m\n\u001b[1;32m     10\u001b[0m \u001b[0;32mclass\u001b[0m \u001b[0mEstudante\u001b[0m\u001b[0;34m:\u001b[0m\u001b[0;34m\u001b[0m\u001b[0;34m\u001b[0m\u001b[0m\n",
            "\u001b[0;31mNameError\u001b[0m: name 'joao' is not defined"
          ]
        }
      ],
      "source": [
        "class Pessoa:\n",
        "  def __init__(self, nome, idade, genero):\n",
        "    self.nome = nome\n",
        "    self.idade = idade\n",
        "    self.genero = genero \n",
        "\n",
        "Joao = Pessoa('Joao Paulo', '26', 'Masculino')\n",
        "print( joao.nome + \"\\n\" + joao.idade + \"\\n\" + joao.genero)\n",
        "\n",
        "class Estudante:\n",
        "  def __init__(self, nome, matricula, curso):\n",
        "    self.nome = nome\n",
        "    self.matricula = matricula\n",
        "    self.curso = curso\n",
        "\n",
        "ana = Estudante('Ana Marcia', '1232', 'DS')\n",
        "print( ana.nome + \"\\n\" + ana.matricula + \"\\n\" + ana.curso)\n",
        "\n",
        "class Professor:\n",
        "  def __init__(self, nome, matricula, curso):\n",
        "    self.nome = nome\n",
        "    self.matricula = matricula\n",
        "    self.curso = curso\n",
        "\n",
        "maria = Professor('Maria dos Santos', '1112', 'DS')\n",
        "print( maria.nome + \"\\n\" + maria.matricula + \"\\n\" + maria.curso)\n"
      ]
    }
  ]
}