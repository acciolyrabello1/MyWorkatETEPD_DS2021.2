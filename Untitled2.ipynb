{
  "nbformat": 4,
  "nbformat_minor": 0,
  "metadata": {
    "colab": {
      "name": "Untitled2.ipynb",
      "provenance": [],
      "toc_visible": true,
      "authorship_tag": "ABX9TyOrY7QAbERGjnWlJdBELJsL",
      "include_colab_link": true
    },
    "kernelspec": {
      "name": "python3",
      "display_name": "Python 3"
    },
    "language_info": {
      "name": "python"
    }
  },
  "cells": [
    {
      "cell_type": "markdown",
      "metadata": {
        "id": "view-in-github",
        "colab_type": "text"
      },
      "source": [
        "<a href=\"https://colab.research.google.com/github/acciolyrabello1/MyWorkatETEPD_DS2021.2/blob/main/Untitled2.ipynb\" target=\"_parent\"><img src=\"https://colab.research.google.com/assets/colab-badge.svg\" alt=\"Open In Colab\"/></a>"
      ]
    },
    {
      "cell_type": "code",
      "execution_count": 67,
      "metadata": {
        "id": "hP9YWuK5AWHJ"
      },
      "outputs": [],
      "source": [
        "class Pessoa:\n",
        "  def __init__(self, nome, idade, genero):\n",
        "    self.nome = nome\n",
        "    self.idade = idade\n",
        "    self.genero = genero \n",
        "class Estudante:\n",
        "  def _init_ (self, nome, matricula, curso):\n",
        "    self.nome = nome\n",
        "    self.matricula = matricula\n",
        "    self.curso = curso\n",
        "class Professor:\n",
        "  def _init_ (self, nome, matricula, curso):\n",
        "    self.nome = nome\n",
        "    self.matricula = matricula\n",
        "    self.curso = curso\n",
        "\n"
      ]
    }
  ]
}